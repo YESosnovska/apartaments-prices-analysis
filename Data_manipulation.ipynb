{
 "cells": [
  {
   "cell_type": "code",
   "id": "initial_id",
   "metadata": {
    "collapsed": true,
    "ExecuteTime": {
     "end_time": "2025-08-12T17:03:36.881164Z",
     "start_time": "2025-08-12T17:03:36.877660Z"
    }
   },
   "source": [
    "import pandas as pd\n",
    "import numpy as np"
   ],
   "outputs": [],
   "execution_count": 11
  },
  {
   "metadata": {
    "ExecuteTime": {
     "end_time": "2025-08-12T17:03:36.911280Z",
     "start_time": "2025-08-12T17:03:36.893741Z"
    }
   },
   "cell_type": "code",
   "source": [
    "df_kyiv = pd.read_csv(\"Kyiv.csv\")\n",
    "rows_to_drop = df_kyiv[df_kyiv[\"num_of_rooms\"] == 0].index\n",
    "df_kyiv.drop(rows_to_drop, inplace=True)\n",
    "df_kyiv.reset_index(drop=True, inplace=True)\n",
    "df_kyiv[\"region\"] = \"Kyiv\""
   ],
   "id": "8875bd41ba608806",
   "outputs": [],
   "execution_count": 12
  },
  {
   "metadata": {
    "ExecuteTime": {
     "end_time": "2025-08-12T17:03:36.917796Z",
     "start_time": "2025-08-12T17:03:36.912294Z"
    }
   },
   "cell_type": "code",
   "source": [
    "df_cherkasy = pd.read_csv(\"Cherkasy.csv\")\n",
    "rows_to_drop = df_cherkasy[df_cherkasy[\"num_of_rooms\"] == 0].index\n",
    "df_cherkasy.drop(rows_to_drop, inplace=True)\n",
    "df_cherkasy.reset_index(drop=True, inplace=True)\n",
    "df_cherkasy[\"region\"] = \"Cherkasy\""
   ],
   "id": "cb45df2f1c58c2b1",
   "outputs": [],
   "execution_count": 13
  },
  {
   "metadata": {
    "ExecuteTime": {
     "end_time": "2025-08-12T17:03:36.923312Z",
     "start_time": "2025-08-12T17:03:36.917796Z"
    }
   },
   "cell_type": "code",
   "source": [
    "df_chernihiv = pd.read_csv(\"Chernihiv.csv\")\n",
    "rows_to_drop = df_chernihiv[df_chernihiv[\"num_of_rooms\"] == 0].index\n",
    "df_chernihiv.drop(rows_to_drop, inplace=True)\n",
    "df_chernihiv.reset_index(drop=True, inplace=True)\n",
    "df_chernihiv[\"region\"] = \"Chernihiv\""
   ],
   "id": "285c63683031579d",
   "outputs": [],
   "execution_count": 14
  },
  {
   "metadata": {
    "ExecuteTime": {
     "end_time": "2025-08-12T17:03:36.950929Z",
     "start_time": "2025-08-12T17:03:36.943427Z"
    }
   },
   "cell_type": "code",
   "source": [
    "df_chernivtsi = pd.read_csv(\"Chernivtsi.csv\")\n",
    "rows_to_drop = df_chernivtsi[df_chernivtsi[\"num_of_rooms\"] == 0].index\n",
    "df_chernivtsi.drop(rows_to_drop, inplace=True)\n",
    "df_chernivtsi.reset_index(drop=True, inplace=True)\n",
    "df_chernivtsi[\"region\"] = \"Chernivtsi\""
   ],
   "id": "bf8005d2584b9381",
   "outputs": [],
   "execution_count": 15
  },
  {
   "metadata": {
    "ExecuteTime": {
     "end_time": "2025-08-12T17:03:36.964637Z",
     "start_time": "2025-08-12T17:03:36.957949Z"
    }
   },
   "cell_type": "code",
   "source": [
    "df_dnipro = pd.read_csv(\"Dnipro.csv\")\n",
    "rows_to_drop = df_dnipro[df_dnipro[\"num_of_rooms\"] == 0].index\n",
    "df_dnipro.drop(rows_to_drop, inplace=True)\n",
    "df_dnipro.reset_index(drop=True, inplace=True)\n",
    "df_dnipro[\"region\"] = \"Dnipro\""
   ],
   "id": "cd4a4457756911b4",
   "outputs": [],
   "execution_count": 16
  },
  {
   "metadata": {
    "ExecuteTime": {
     "end_time": "2025-08-12T17:03:36.972220Z",
     "start_time": "2025-08-12T17:03:36.965664Z"
    }
   },
   "cell_type": "code",
   "source": [
    "df_ivano_frankivsk = pd.read_csv(\"Ivano-Frankivsk.csv\")\n",
    "rows_to_drop = df_ivano_frankivsk[df_ivano_frankivsk[\"num_of_rooms\"] == 0].index\n",
    "df_ivano_frankivsk.drop(rows_to_drop, inplace=True)\n",
    "df_ivano_frankivsk.reset_index(drop=True, inplace=True)\n",
    "df_ivano_frankivsk[\"region\"] = \"Ivano-Frankivsk\""
   ],
   "id": "376ffb9d69695b09",
   "outputs": [],
   "execution_count": 17
  },
  {
   "metadata": {
    "ExecuteTime": {
     "end_time": "2025-08-12T17:03:36.990822Z",
     "start_time": "2025-08-12T17:03:36.984307Z"
    }
   },
   "cell_type": "code",
   "source": [
    "df_kharkiv = pd.read_csv(\"Kharkiv.csv\")\n",
    "rows_to_drop = df_kharkiv[df_kharkiv[\"num_of_rooms\"] == 0].index\n",
    "df_kharkiv.drop(rows_to_drop, inplace=True)\n",
    "df_kharkiv.reset_index(drop=True, inplace=True)\n",
    "df_kharkiv[\"region\"] = \"Kharkiv\""
   ],
   "id": "fdc20ab31f292676",
   "outputs": [],
   "execution_count": 18
  },
  {
   "metadata": {
    "ExecuteTime": {
     "end_time": "2025-08-12T17:03:36.997207Z",
     "start_time": "2025-08-12T17:03:36.991835Z"
    }
   },
   "cell_type": "code",
   "source": [
    "df_kherson = pd.read_csv(\"Kherson.csv\")\n",
    "rows_to_drop = df_kherson[df_kherson[\"num_of_rooms\"] == 0].index\n",
    "df_kherson.drop(rows_to_drop, inplace=True)\n",
    "# empty dataframe "
   ],
   "id": "95ac3422cd4457ce",
   "outputs": [],
   "execution_count": 19
  },
  {
   "metadata": {
    "ExecuteTime": {
     "end_time": "2025-08-12T17:03:37.018362Z",
     "start_time": "2025-08-12T17:03:37.010754Z"
    }
   },
   "cell_type": "code",
   "source": [
    "df_khmelnytskyi = pd.read_csv(\"Khmelnytskyi.csv\")\n",
    "rows_to_drop = df_khmelnytskyi[df_khmelnytskyi[\"num_of_rooms\"] == 0].index\n",
    "df_khmelnytskyi.drop(rows_to_drop, inplace=True)\n",
    "df_khmelnytskyi.reset_index(drop=True, inplace=True)\n",
    "df_khmelnytskyi[\"region\"] = \"Khmelnytskyi\""
   ],
   "id": "e8937126dd35e532",
   "outputs": [],
   "execution_count": 20
  },
  {
   "metadata": {
    "ExecuteTime": {
     "end_time": "2025-08-12T17:03:37.047480Z",
     "start_time": "2025-08-12T17:03:37.040619Z"
    }
   },
   "cell_type": "code",
   "source": [
    "df_kropyvnytskyi = pd.read_csv(\"Kropyvnytskyi.csv\")\n",
    "rows_to_drop = df_kropyvnytskyi[df_kropyvnytskyi[\"num_of_rooms\"] == 0].index\n",
    "df_kropyvnytskyi.drop(rows_to_drop, inplace=True)\n",
    "df_kropyvnytskyi.reset_index(drop=True, inplace=True)\n",
    "df_kropyvnytskyi[\"region\"] = \"Kropyvnytskyi\""
   ],
   "id": "5753e238ce6282a7",
   "outputs": [],
   "execution_count": 21
  },
  {
   "metadata": {
    "ExecuteTime": {
     "end_time": "2025-08-12T17:03:37.055409Z",
     "start_time": "2025-08-12T17:03:37.048492Z"
    }
   },
   "cell_type": "code",
   "source": [
    "df_lutsk = pd.read_csv(\"Lutsk.csv\")\n",
    "rows_to_drop = df_lutsk[df_lutsk[\"num_of_rooms\"] == 0].index\n",
    "df_lutsk.drop(rows_to_drop, inplace=True)\n",
    "df_lutsk.reset_index(drop=True, inplace=True)\n",
    "df_lutsk[\"region\"] = \"Lutsk\""
   ],
   "id": "e5244a00ae01488e",
   "outputs": [],
   "execution_count": 22
  },
  {
   "metadata": {
    "ExecuteTime": {
     "end_time": "2025-08-12T17:03:37.063968Z",
     "start_time": "2025-08-12T17:03:37.055409Z"
    }
   },
   "cell_type": "code",
   "source": [
    "df_lviv = pd.read_csv(\"Lviv.csv\")\n",
    "rows_to_drop = df_lviv[df_lviv[\"num_of_rooms\"] == 0].index\n",
    "df_lviv.drop(rows_to_drop, inplace=True)\n",
    "df_lviv.reset_index(drop=True, inplace=True)\n",
    "df_lviv[\"region\"] = \"Lviv\""
   ],
   "id": "acb618656a98c273",
   "outputs": [],
   "execution_count": 23
  },
  {
   "metadata": {
    "ExecuteTime": {
     "end_time": "2025-08-12T17:03:37.070535Z",
     "start_time": "2025-08-12T17:03:37.064984Z"
    }
   },
   "cell_type": "code",
   "source": [
    "df_mykolaiv = pd.read_csv(\"Mykolaiv.csv\")\n",
    "rows_to_drop = df_mykolaiv[df_mykolaiv[\"num_of_rooms\"] == 0].index\n",
    "df_mykolaiv.drop(rows_to_drop, inplace=True)\n",
    "df_mykolaiv.reset_index(drop=True, inplace=True)\n",
    "df_mykolaiv[\"region\"] = \"Mykolaiv\""
   ],
   "id": "77c9e91c4f09daa0",
   "outputs": [],
   "execution_count": 24
  },
  {
   "metadata": {
    "ExecuteTime": {
     "end_time": "2025-08-12T17:03:37.084525Z",
     "start_time": "2025-08-12T17:03:37.078340Z"
    }
   },
   "cell_type": "code",
   "source": [
    "df_odesa = pd.read_csv(\"Odesa.csv\")\n",
    "rows_to_drop = df_odesa[df_odesa[\"num_of_rooms\"] == 0].index\n",
    "df_odesa.drop(rows_to_drop, inplace=True)\n",
    "df_odesa.reset_index(drop=True, inplace=True)\n",
    "df_odesa[\"region\"] = \"Odesa\""
   ],
   "id": "ef9c09ba20745c42",
   "outputs": [],
   "execution_count": 25
  },
  {
   "metadata": {
    "ExecuteTime": {
     "end_time": "2025-08-12T17:03:37.097068Z",
     "start_time": "2025-08-12T17:03:37.091043Z"
    }
   },
   "cell_type": "code",
   "source": [
    "df_poltava = pd.read_csv(\"Poltava.csv\")\n",
    "rows_to_drop = df_poltava[df_poltava[\"num_of_rooms\"] == 0].index\n",
    "df_poltava.drop(rows_to_drop, inplace=True)\n",
    "df_poltava.reset_index(drop=True, inplace=True)\n",
    "df_poltava[\"region\"] = \"Poltava\""
   ],
   "id": "b22e3c4fb9023583",
   "outputs": [],
   "execution_count": 26
  },
  {
   "metadata": {
    "ExecuteTime": {
     "end_time": "2025-08-12T17:03:37.107424Z",
     "start_time": "2025-08-12T17:03:37.100622Z"
    }
   },
   "cell_type": "code",
   "source": [
    "df_rivne = pd.read_csv(\"Rivne.csv\")\n",
    "rows_to_drop = df_rivne[df_rivne[\"num_of_rooms\"] == 0].index\n",
    "df_rivne.drop(rows_to_drop, inplace=True)\n",
    "df_rivne.reset_index(drop=True, inplace=True)\n",
    "df_rivne[\"region\"] = \"Rivne\""
   ],
   "id": "bcebd0596aca72b4",
   "outputs": [],
   "execution_count": 27
  },
  {
   "metadata": {
    "ExecuteTime": {
     "end_time": "2025-08-12T17:03:37.114006Z",
     "start_time": "2025-08-12T17:03:37.107424Z"
    }
   },
   "cell_type": "code",
   "source": [
    "df_sumy = pd.read_csv(\"Sumy.csv\")\n",
    "rows_to_drop = df_sumy[df_sumy[\"num_of_rooms\"] == 0].index\n",
    "df_sumy.drop(rows_to_drop, inplace=True)\n",
    "df_sumy.reset_index(drop=True, inplace=True)\n",
    "df_sumy[\"region\"] = \"Sumy\""
   ],
   "id": "db8d7cd02645bd63",
   "outputs": [],
   "execution_count": 28
  },
  {
   "metadata": {
    "ExecuteTime": {
     "end_time": "2025-08-12T17:03:37.120549Z",
     "start_time": "2025-08-12T17:03:37.114539Z"
    }
   },
   "cell_type": "code",
   "source": [
    "df_ternopil = pd.read_csv(\"Ternopil.csv\")\n",
    "rows_to_drop = df_ternopil[df_ternopil[\"num_of_rooms\"] == 0].index\n",
    "df_ternopil.drop(rows_to_drop, inplace=True)\n",
    "df_ternopil.reset_index(drop=True, inplace=True)\n",
    "df_ternopil[\"region\"] = \"Ternopil\""
   ],
   "id": "6629614b28f18e21",
   "outputs": [],
   "execution_count": 29
  },
  {
   "metadata": {
    "ExecuteTime": {
     "end_time": "2025-08-12T17:03:37.125999Z",
     "start_time": "2025-08-12T17:03:37.121080Z"
    }
   },
   "cell_type": "code",
   "source": [
    "df_uzhgorod = pd.read_csv(\"Uzhgorod.csv\")\n",
    "rows_to_drop = df_uzhgorod[df_uzhgorod[\"num_of_rooms\"] == 0].index\n",
    "df_uzhgorod.drop(rows_to_drop, inplace=True)\n",
    "df_uzhgorod.reset_index(drop=True, inplace=True)\n",
    "df_uzhgorod[\"region\"] = \"Uzhgorod\""
   ],
   "id": "a5a20b8c82557422",
   "outputs": [],
   "execution_count": 30
  },
  {
   "metadata": {
    "ExecuteTime": {
     "end_time": "2025-08-12T17:03:37.133556Z",
     "start_time": "2025-08-12T17:03:37.125999Z"
    }
   },
   "cell_type": "code",
   "source": [
    "df_vinnytsia = pd.read_csv(\"Vinnytsia.csv\")\n",
    "rows_to_drop = df_vinnytsia[df_vinnytsia[\"num_of_rooms\"] == 0].index\n",
    "df_vinnytsia.drop(rows_to_drop, inplace=True)\n",
    "df_vinnytsia.reset_index(drop=True, inplace=True)\n",
    "df_vinnytsia[\"region\"] = \"Vinnytsia\""
   ],
   "id": "94be382fc0e95698",
   "outputs": [],
   "execution_count": 31
  },
  {
   "metadata": {
    "ExecuteTime": {
     "end_time": "2025-08-12T17:03:37.141619Z",
     "start_time": "2025-08-12T17:03:37.133556Z"
    }
   },
   "cell_type": "code",
   "source": [
    "df_zaporizhzhia = pd.read_csv(\"Zaporizhzhia.csv\")\n",
    "rows_to_drop = df_zaporizhzhia[df_zaporizhzhia[\"num_of_rooms\"] == 0].index\n",
    "df_zaporizhzhia.drop(rows_to_drop, inplace=True)\n",
    "df_zaporizhzhia.reset_index(drop=True, inplace=True)\n",
    "df_zaporizhzhia[\"region\"] = \"Zaporizhzhia\""
   ],
   "id": "ebf208b3370f5241",
   "outputs": [],
   "execution_count": 32
  },
  {
   "metadata": {
    "ExecuteTime": {
     "end_time": "2025-08-12T17:03:37.147715Z",
     "start_time": "2025-08-12T17:03:37.142629Z"
    }
   },
   "cell_type": "code",
   "source": [
    "df_zhytomyr = pd.read_csv(\"Zhytomyr.csv\")\n",
    "rows_to_drop = df_zhytomyr[df_zhytomyr[\"num_of_rooms\"] == 0].index\n",
    "df_zhytomyr.drop(rows_to_drop, inplace=True)\n",
    "df_zhytomyr.reset_index(drop=True, inplace=True)\n",
    "df_zhytomyr[\"region\"] = \"Zhytomyr\""
   ],
   "id": "2b1e1dab383fdc4f",
   "outputs": [],
   "execution_count": 33
  },
  {
   "metadata": {
    "ExecuteTime": {
     "end_time": "2025-08-12T17:07:08.123012Z",
     "start_time": "2025-08-12T17:07:08.086490Z"
    }
   },
   "cell_type": "code",
   "source": [
    "df_ukraine = pd.concat([df_cherkasy, df_chernihiv, df_chernivtsi, df_dnipro, df_ivano_frankivsk, df_kharkiv, df_khmelnytskyi, df_kropyvnytskyi, df_kyiv, df_lutsk, df_lviv, df_mykolaiv, df_odesa, df_poltava, df_rivne, df_sumy, df_ternopil, df_uzhgorod, df_vinnytsia, df_zaporizhzhia, df_zhytomyr], ignore_index=True)\n",
    "\n",
    "df_ukraine.rename(columns={\"region\" : \"city\"},inplace=True)\n",
    "\n",
    "df_ukraine.loc[\n",
    "    df_ukraine[\"city\"].isin([\n",
    "        \"Lutsk\", \"Rivne\", \"Lviv\", \"Ternopil\", \"Khmelnytskyi\",\n",
    "        \"Uzhgorod\", \"Ivano-Frankivsk\", \"Chernivtsi\"\n",
    "    ]),\n",
    "    \"region\"\n",
    "] = \"West\"\n",
    "\n",
    "df_ukraine.loc[\n",
    "    df_ukraine[\"city\"].isin([\"Zhytomyr\", \"Kyiv\", \"Chernihiv\", \"Sumy\"]),\n",
    "    \"region\"\n",
    "] = \"North\"\n",
    "\n",
    "df_ukraine.loc[\n",
    "    df_ukraine[\"city\"].isin([\"Vinnytsia\", \"Cherkasy\", \"Poltava\", \"Kropyvnytskyi\", \"Dnipro\"]),\n",
    "    \"region\"\n",
    "] = \"Center\"\n",
    "\n",
    "df_ukraine.loc[df_ukraine[\"city\"] == \"Kharkiv\", \"region\"] = \"East\"\n",
    "\n",
    "df_ukraine.loc[\n",
    "    df_ukraine[\"city\"].isin([\"Odesa\", \"Mykolaiv\", \"Zaporizhzhia\"]),\n",
    "    \"region\"\n",
    "] = \"South\"\n",
    "df_ukraine.to_csv(\"Ukraine.csv\", index=False)"
   ],
   "id": "4a41e1cfd3f6f5b0",
   "outputs": [],
   "execution_count": 35
  }
 ],
 "metadata": {
  "kernelspec": {
   "display_name": "Python 3",
   "language": "python",
   "name": "python3"
  },
  "language_info": {
   "codemirror_mode": {
    "name": "ipython",
    "version": 2
   },
   "file_extension": ".py",
   "mimetype": "text/x-python",
   "name": "python",
   "nbconvert_exporter": "python",
   "pygments_lexer": "ipython2",
   "version": "2.7.6"
  }
 },
 "nbformat": 4,
 "nbformat_minor": 5
}
